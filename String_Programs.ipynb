{
  "nbformat": 4,
  "nbformat_minor": 0,
  "metadata": {
    "colab": {
      "provenance": [],
      "toc_visible": true
    },
    "kernelspec": {
      "name": "python3",
      "display_name": "Python 3"
    },
    "language_info": {
      "name": "python"
    }
  },
  "cells": [
    {
      "cell_type": "code",
      "execution_count": null,
      "metadata": {
        "colab": {
          "base_uri": "https://localhost:8080/"
        },
        "id": "9WIGbJHQ5Af1",
        "outputId": "cd2b6ad4-23ba-4f97-f675-6acad9dcd965"
      },
      "outputs": [
        {
          "output_type": "stream",
          "name": "stdout",
          "text": [
            "Enter the first word : LoVe\n",
            "Enter the second word : evol\n",
            "Good..They are Anagram ! \n"
          ]
        }
      ],
      "source": [
        "def is_anagram(string1,string2):\n",
        "  return sorted(string1.upper()) == sorted(string2.upper())\n",
        "\n",
        "string1 = input(\"Enter the first word : \")\n",
        "string2 = input(\"Enter the second word : \")\n",
        "\n",
        "if is_anagram(string1,string2) :\n",
        "  print(\"Good..They are Anagram ! \")\n",
        "else:\n",
        "  print(\"Bad..They are not Anagram !\")"
      ]
    },
    {
      "cell_type": "code",
      "source": [
        "def fibonacci_series(i):\n",
        "  if i <= 1:\n",
        "    return i\n",
        "  else:\n",
        "    return fibonacci_series(i-2)+fibonacci_series(i-1)\n",
        "\n",
        "num = int(input(\"Enter the number : \"))\n",
        "\n",
        "for i in range(num):\n",
        "  print(fibonacci_series(i))\n",
        "\n",
        "\n",
        "#Time Complexity: O(2n)\n",
        "#The time complexity of this program is exponential, O(2n), as it makes recursive calls to the Fibonacci function for each value from 0 to n.\n",
        "\n",
        "#Space Complexity: O(n)\n",
        "#The space complexity is O(n) as the recursive calls consume space on the call stack proportional to the input value ‘n’."
      ],
      "metadata": {
        "colab": {
          "base_uri": "https://localhost:8080/"
        },
        "id": "4WlFaYQq_eV8",
        "outputId": "18f33a06-13cf-432b-b9f4-472738419f19"
      },
      "execution_count": null,
      "outputs": [
        {
          "output_type": "stream",
          "name": "stdout",
          "text": [
            "Enter the number : 5\n",
            "0\n",
            "1\n",
            "1\n",
            "2\n",
            "3\n"
          ]
        }
      ]
    },
    {
      "cell_type": "code",
      "source": [
        "def count_occurence(w,sw):\n",
        "  count = 0\n",
        "  start = 0\n",
        "  for i in range(len(w)):\n",
        "    if w[i] == sw:\n",
        "      count+=1\n",
        "      print(\"present at index : \",w.find(sw,start))\n",
        "      start = i+1\n",
        "  return count\n",
        "\n",
        "word = input(\"Enter the string : \")\n",
        "sub_word = input(\"Enter the sub string : \")\n",
        "\n",
        "print(\"Total occurence is \", count_occurence(word,sub_word))\n",
        "\n",
        "#Time Complexity: O(len), where len is the size of the string given.\n",
        "#Auxiliary Space: O(1)\n"
      ],
      "metadata": {
        "colab": {
          "base_uri": "https://localhost:8080/"
        },
        "id": "NnpEdQPYF5Hu",
        "outputId": "1da75e3c-2b03-4b64-b998-aaf482f612f2"
      },
      "execution_count": null,
      "outputs": [
        {
          "output_type": "stream",
          "name": "stdout",
          "text": [
            "Enter the string : kanika\n",
            "Enter the sub string : a\n",
            "present at index :  1\n",
            "present at index :  5\n",
            "Total occurence is  2\n"
          ]
        }
      ]
    },
    {
      "cell_type": "code",
      "source": [
        "def remove_whitespace(s):\n",
        "  for i in range(len(s)):\n",
        "    s1 = s.replace(\" \",\"\")\n",
        "  return s1\n",
        "\n",
        "word = input(\"Enter the word : \")\n",
        "print(\"Spaces removed : \", remove_whitespace(word))\n",
        "\n",
        "#Time Complexity: O(len), where len is the size of the string given.\n",
        "#Auxiliary Space: O(1)"
      ],
      "metadata": {
        "colab": {
          "base_uri": "https://localhost:8080/"
        },
        "id": "PPk2JRWWKoUk",
        "outputId": "686d4c0d-2309-4725-b5e6-78634cef64ea"
      },
      "execution_count": null,
      "outputs": [
        {
          "output_type": "stream",
          "name": "stdout",
          "text": [
            "Enter the word : ka  n i ka\n",
            "kanika\n"
          ]
        }
      ]
    },
    {
      "cell_type": "code",
      "source": [
        "#Write a program that splits a string into equal-sized parts and stores them in a list.\n",
        "def split_String(w,sz):\n",
        "  return [w[i:i+sz] for i in range(0,len(w),sz)]\n",
        "\n",
        "word = input(\"Enter the word : \")\n",
        "split_size = int(input(\"Enter the split size : \"))\n",
        "\n",
        "print(split_String(word,split_size))\n",
        "\n",
        "#range(start, stop, step_to_increment)"
      ],
      "metadata": {
        "colab": {
          "base_uri": "https://localhost:8080/"
        },
        "id": "FKk4oDkULaFc",
        "outputId": "08f9cf5e-2677-4574-c91f-e3a49ac680bf"
      },
      "execution_count": null,
      "outputs": [
        {
          "output_type": "stream",
          "name": "stdout",
          "text": [
            "Enter the word : kanika\n",
            "Enter the split size : 3\n",
            "['kan', 'ika']\n"
          ]
        }
      ]
    },
    {
      "cell_type": "code",
      "source": [
        "# Check Pangram - A pangram is a sentence/ series of words which contains every letter in the English Alphabets collection\n",
        "\n",
        "import string\n",
        "\n",
        "alphabets = set(string.ascii_lowercase)\n",
        "print(alphabets)\n",
        "\n",
        "def is_Pangram(word):\n",
        "  #return alphabets.issubset(word.lower())\n",
        "  return alphabets <= set(word.lower())\n",
        "\n",
        "word = input(\"Enter the String : \")\n",
        "if is_Pangram(word):\n",
        "  print(\"Good..It is Pangram !\")\n",
        "else:\n",
        "  print(\"Bad..It is not Pangram !\")"
      ],
      "metadata": {
        "colab": {
          "base_uri": "https://localhost:8080/"
        },
        "id": "_LelxBoNPbTa",
        "outputId": "99f69de6-dd49-4a79-e3f9-99622d1bf676"
      },
      "execution_count": null,
      "outputs": [
        {
          "output_type": "stream",
          "name": "stdout",
          "text": [
            "{'r', 'b', 'i', 'g', 'a', 't', 'm', 'z', 'w', 's', 'l', 'd', 'y', 'n', 'j', 'p', 'c', 'e', 'q', 'f', 'k', 'u', 'v', 'o', 'h', 'x'}\n",
            "Enter the String : The quick brown fox jumps over the lazy dog\n",
            "Good..It is Pangram !\n"
          ]
        }
      ]
    },
    {
      "cell_type": "code",
      "source": [
        "#Duplicate words in a given string\n",
        "\n",
        "def count(s):\n",
        "  words = s.lower().split(\" \")\n",
        "  print(words)\n",
        "  for i in range (0,len(words)):\n",
        "    for j in range(i+1,len(words)):\n",
        "      if words[i] == words[j]:\n",
        "        print(words[i])\n",
        "  return\n",
        "\n",
        "\n",
        "sentence = input(\"Enter the String : \")\n",
        "print(count(sentence))"
      ],
      "metadata": {
        "colab": {
          "base_uri": "https://localhost:8080/"
        },
        "id": "y5Q3DZCFR5ng",
        "outputId": "1798f7b0-f66a-4480-ce3b-9e8fddc07fb9"
      },
      "execution_count": null,
      "outputs": [
        {
          "output_type": "stream",
          "name": "stdout",
          "text": [
            "Enter the String : big black bug bit a big black dog on his big black nose\n",
            "['big', 'black', 'bug', 'bit', 'a', 'big', 'black', 'dog', 'on', 'his', 'big', 'black', 'nose']\n",
            "big\n",
            "big\n",
            "black\n",
            "black\n",
            "big\n",
            "black\n",
            "None\n"
          ]
        }
      ]
    },
    {
      "cell_type": "code",
      "source": [
        "def reverse_string(word):\n",
        "  return word[::-1]\n",
        "\n",
        "\n",
        "word = input(\"Enter the String : \")\n",
        "print(reverse_string(word))\n",
        "\n",
        "# slicing from the index start to index stop, by skipping step\n",
        "#arr[start:stop:step]"
      ],
      "metadata": {
        "colab": {
          "base_uri": "https://localhost:8080/"
        },
        "id": "irA9SCA6WMSv",
        "outputId": "34627b8d-3e5f-4630-e50e-36844d313fa5"
      },
      "execution_count": 1,
      "outputs": [
        {
          "output_type": "stream",
          "name": "stdout",
          "text": [
            "Enter the String : kanika\n",
            "akinak\n"
          ]
        }
      ]
    },
    {
      "cell_type": "code",
      "source": [],
      "metadata": {
        "id": "R7DF14h6B2JE"
      },
      "execution_count": null,
      "outputs": []
    }
  ]
}