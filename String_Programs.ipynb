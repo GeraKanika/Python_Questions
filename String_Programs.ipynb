{
  "nbformat": 4,
  "nbformat_minor": 0,
  "metadata": {
    "colab": {
      "provenance": [],
      "toc_visible": true
    },
    "kernelspec": {
      "name": "python3",
      "display_name": "Python 3"
    },
    "language_info": {
      "name": "python"
    }
  },
  "cells": [
    {
      "cell_type": "markdown",
      "source": [
        "**String Functions Used :**\n",
        "\n",
        "s.upper()\n",
        "s.lower()\n",
        "sorted(s)\n",
        "len(s)\n",
        "s.find(char,start)\n",
        "s.replace(\" \",\"\")\n",
        "set(string.ascii_lowercase)\n",
        "set(word.lower())\n",
        "s.split(\" \")\n",
        "s[::-1]\n",
        "' '.join([])\n",
        "[].append(c)\n",
        "s.capitalize()\n",
        "s.title()\n",
        "\n",
        "\n",
        "\n"
      ],
      "metadata": {
        "id": "SJS-ppitLVLQ"
      }
    },
    {
      "cell_type": "code",
      "execution_count": null,
      "metadata": {
        "colab": {
          "base_uri": "https://localhost:8080/"
        },
        "id": "9WIGbJHQ5Af1",
        "outputId": "cd2b6ad4-23ba-4f97-f675-6acad9dcd965"
      },
      "outputs": [
        {
          "output_type": "stream",
          "name": "stdout",
          "text": [
            "Enter the first word : LoVe\n",
            "Enter the second word : evol\n",
            "Good..They are Anagram ! \n"
          ]
        }
      ],
      "source": [
        "def is_anagram(string1,string2):\n",
        "  return sorted(string1.upper()) == sorted(string2.upper())\n",
        "\n",
        "string1 = input(\"Enter the first word : \")\n",
        "string2 = input(\"Enter the second word : \")\n",
        "\n",
        "if is_anagram(string1,string2) :\n",
        "  print(\"Good..They are Anagram ! \")\n",
        "else:\n",
        "  print(\"Bad..They are not Anagram !\")"
      ]
    },
    {
      "cell_type": "code",
      "source": [
        "def fibonacci_series(i):\n",
        "  if i <= 1:\n",
        "    return i\n",
        "  else:\n",
        "    return fibonacci_series(i-2)+fibonacci_series(i-1)\n",
        "\n",
        "num = int(input(\"Enter the number : \"))\n",
        "\n",
        "for i in range(num):\n",
        "  print(fibonacci_series(i))\n",
        "\n",
        "\n",
        "#Time Complexity: O(2n)\n",
        "#The time complexity of this program is exponential, O(2n), as it makes recursive calls to the Fibonacci function for each value from 0 to n.\n",
        "\n",
        "#Space Complexity: O(n)\n",
        "#The space complexity is O(n) as the recursive calls consume space on the call stack proportional to the input value ‘n’."
      ],
      "metadata": {
        "colab": {
          "base_uri": "https://localhost:8080/"
        },
        "id": "4WlFaYQq_eV8",
        "outputId": "18f33a06-13cf-432b-b9f4-472738419f19"
      },
      "execution_count": null,
      "outputs": [
        {
          "output_type": "stream",
          "name": "stdout",
          "text": [
            "Enter the number : 5\n",
            "0\n",
            "1\n",
            "1\n",
            "2\n",
            "3\n"
          ]
        }
      ]
    },
    {
      "cell_type": "code",
      "source": [
        "def count_occurence(w,sw):\n",
        "  count = 0\n",
        "  start = 0\n",
        "  for i in range(len(w)):\n",
        "    if w[i] == sw:\n",
        "      count+=1\n",
        "      print(\"present at index : \",w.find(sw,start))\n",
        "      start = i+1\n",
        "  return count\n",
        "\n",
        "word = input(\"Enter the string : \")\n",
        "sub_word = input(\"Enter the sub string : \")\n",
        "\n",
        "print(\"Total occurence is \", count_occurence(word,sub_word))\n",
        "\n",
        "#Time Complexity: O(len), where len is the size of the string given.\n",
        "#Auxiliary Space: O(1)\n"
      ],
      "metadata": {
        "colab": {
          "base_uri": "https://localhost:8080/"
        },
        "id": "NnpEdQPYF5Hu",
        "outputId": "1da75e3c-2b03-4b64-b998-aaf482f612f2"
      },
      "execution_count": null,
      "outputs": [
        {
          "output_type": "stream",
          "name": "stdout",
          "text": [
            "Enter the string : kanika\n",
            "Enter the sub string : a\n",
            "present at index :  1\n",
            "present at index :  5\n",
            "Total occurence is  2\n"
          ]
        }
      ]
    },
    {
      "cell_type": "code",
      "source": [
        "def remove_whitespace(s):\n",
        "  for i in range(len(s)):\n",
        "    s1 = s.replace(\" \",\"\")\n",
        "  return s1\n",
        "\n",
        "word = input(\"Enter the word : \")\n",
        "print(\"Spaces removed : \", remove_whitespace(word))\n",
        "\n",
        "#Time Complexity: O(len), where len is the size of the string given.\n",
        "#Auxiliary Space: O(1)"
      ],
      "metadata": {
        "colab": {
          "base_uri": "https://localhost:8080/"
        },
        "id": "PPk2JRWWKoUk",
        "outputId": "686d4c0d-2309-4725-b5e6-78634cef64ea"
      },
      "execution_count": null,
      "outputs": [
        {
          "output_type": "stream",
          "name": "stdout",
          "text": [
            "Enter the word : ka  n i ka\n",
            "kanika\n"
          ]
        }
      ]
    },
    {
      "cell_type": "code",
      "source": [
        "#Write a program that splits a string into equal-sized parts and stores them in a list.\n",
        "def split_String(w,sz):\n",
        "  return [w[i:i+sz] for i in range(0,len(w),sz)]\n",
        "\n",
        "word = input(\"Enter the word : \")\n",
        "split_size = int(input(\"Enter the split size : \"))\n",
        "\n",
        "print(split_String(word,split_size))\n",
        "\n",
        "#range(start, stop, step_to_increment)"
      ],
      "metadata": {
        "colab": {
          "base_uri": "https://localhost:8080/"
        },
        "id": "FKk4oDkULaFc",
        "outputId": "08f9cf5e-2677-4574-c91f-e3a49ac680bf"
      },
      "execution_count": null,
      "outputs": [
        {
          "output_type": "stream",
          "name": "stdout",
          "text": [
            "Enter the word : kanika\n",
            "Enter the split size : 3\n",
            "['kan', 'ika']\n"
          ]
        }
      ]
    },
    {
      "cell_type": "code",
      "source": [
        "# Check Pangram - A pangram is a sentence/ series of words which contains every letter in the English Alphabets collection\n",
        "\n",
        "import string\n",
        "\n",
        "alphabets = set(string.ascii_lowercase)\n",
        "print(alphabets)\n",
        "\n",
        "def is_Pangram(word):\n",
        "  #return alphabets.issubset(word.lower())\n",
        "  return alphabets <= set(word.lower())\n",
        "\n",
        "word = input(\"Enter the String : \")\n",
        "if is_Pangram(word):\n",
        "  print(\"Good..It is Pangram !\")\n",
        "else:\n",
        "  print(\"Bad..It is not Pangram !\")"
      ],
      "metadata": {
        "colab": {
          "base_uri": "https://localhost:8080/"
        },
        "id": "_LelxBoNPbTa",
        "outputId": "99f69de6-dd49-4a79-e3f9-99622d1bf676"
      },
      "execution_count": null,
      "outputs": [
        {
          "output_type": "stream",
          "name": "stdout",
          "text": [
            "{'r', 'b', 'i', 'g', 'a', 't', 'm', 'z', 'w', 's', 'l', 'd', 'y', 'n', 'j', 'p', 'c', 'e', 'q', 'f', 'k', 'u', 'v', 'o', 'h', 'x'}\n",
            "Enter the String : The quick brown fox jumps over the lazy dog\n",
            "Good..It is Pangram !\n"
          ]
        }
      ]
    },
    {
      "cell_type": "code",
      "source": [
        "#Duplicate words in a given string\n",
        "\n",
        "def count(s):\n",
        "  words = s.lower().split(\" \")\n",
        "  print(words)\n",
        "  for i in range (0,len(words)):\n",
        "    for j in range(i+1,len(words)):\n",
        "      if words[i] == words[j]:\n",
        "        print(words[i])\n",
        "  return\n",
        "\n",
        "\n",
        "sentence = input(\"Enter the String : \")\n",
        "print(count(sentence))"
      ],
      "metadata": {
        "colab": {
          "base_uri": "https://localhost:8080/"
        },
        "id": "y5Q3DZCFR5ng",
        "outputId": "1798f7b0-f66a-4480-ce3b-9e8fddc07fb9"
      },
      "execution_count": null,
      "outputs": [
        {
          "output_type": "stream",
          "name": "stdout",
          "text": [
            "Enter the String : big black bug bit a big black dog on his big black nose\n",
            "['big', 'black', 'bug', 'bit', 'a', 'big', 'black', 'dog', 'on', 'his', 'big', 'black', 'nose']\n",
            "big\n",
            "big\n",
            "black\n",
            "black\n",
            "big\n",
            "black\n",
            "None\n"
          ]
        }
      ]
    },
    {
      "cell_type": "code",
      "source": [
        "def reverse_string(word):\n",
        "  return word[::-1]\n",
        "\n",
        "\n",
        "word = input(\"Enter the String : \")\n",
        "print(reverse_string(word))\n",
        "\n",
        "# slicing from the index start to index stop, by skipping step\n",
        "#arr[start:stop:step]"
      ],
      "metadata": {
        "colab": {
          "base_uri": "https://localhost:8080/"
        },
        "id": "irA9SCA6WMSv",
        "outputId": "34627b8d-3e5f-4630-e50e-36844d313fa5"
      },
      "execution_count": null,
      "outputs": [
        {
          "output_type": "stream",
          "name": "stdout",
          "text": [
            "Enter the String : kanika\n",
            "akinak\n"
          ]
        }
      ]
    },
    {
      "cell_type": "code",
      "source": [
        "#Write a program that takes a sentence as input and counts the number of words in it.\n",
        "\n",
        "def count_words(w):\n",
        "  return len(w.replace(\" \",\"\"))\n",
        "\n",
        "word_count = input(\"Enter the String : \")\n",
        "print(count_words(word_count))"
      ],
      "metadata": {
        "colab": {
          "base_uri": "https://localhost:8080/"
        },
        "id": "R7DF14h6B2JE",
        "outputId": "8b0beedc-f18c-4b1e-fc6b-9c3bb637a92b"
      },
      "execution_count": null,
      "outputs": [
        {
          "output_type": "stream",
          "name": "stdout",
          "text": [
            "Enter the String : how are you !\n",
            "10\n"
          ]
        }
      ]
    },
    {
      "cell_type": "code",
      "source": [
        "#Write a program that checks if a given string is a palindrome (reads the same forwards and backwards).\n",
        "def Is_palindrome(w):\n",
        "  if w[::-1] == w :\n",
        "   print(\"Yes it is a palindrome!\")\n",
        "  else:\n",
        "   print(\"No it is not a palindrome!\")\n",
        "  return ''\n",
        "\n",
        "word = input(\"Enter the String : \")\n",
        "print(Is_palindrome(word))"
      ],
      "metadata": {
        "colab": {
          "base_uri": "https://localhost:8080/"
        },
        "id": "FkO0IZ-5F4aV",
        "outputId": "3112c3b8-c444-4caf-d704-1c69c6e6debd"
      },
      "execution_count": null,
      "outputs": [
        {
          "output_type": "stream",
          "name": "stdout",
          "text": [
            "Enter the String : ghgghg\n",
            "Yes it is a palindrome!\n",
            "\n"
          ]
        }
      ]
    },
    {
      "cell_type": "code",
      "source": [
        "#Write a program that counts the number of vowels in a given string.\n",
        "def count_vowel(w):\n",
        "  vowels = ['a','e','i','o','u']\n",
        "  count =0\n",
        "\n",
        "  for i in w:\n",
        "    if i.lower() in vowels:\n",
        "      count +=1\n",
        "\n",
        "  return count\n",
        "\n",
        "word = input(\"Enter the String : \")\n",
        "print(count_vowel(word))"
      ],
      "metadata": {
        "colab": {
          "base_uri": "https://localhost:8080/"
        },
        "id": "BBzaKlp6Ghh3",
        "outputId": "6217c704-b9a0-4c3a-af7a-24e95f224185"
      },
      "execution_count": null,
      "outputs": [
        {
          "output_type": "stream",
          "name": "stdout",
          "text": [
            "Enter the String : kanika gera\n",
            "5\n"
          ]
        }
      ]
    },
    {
      "cell_type": "code",
      "source": [
        "#Write a program that takes a sentence as input and capitalizes the first letter of each word.\n",
        "\n",
        "def capitalize_sentence(s):\n",
        "  words = s.split()\n",
        "  return ' '.join([w.capitalize() for w in words])\n",
        "\n",
        "sentence = input(\"Enter the Sentence : \")\n",
        "print(capitalize_sentence(sentence))"
      ],
      "metadata": {
        "colab": {
          "base_uri": "https://localhost:8080/"
        },
        "id": "K5ku6TwoHFee",
        "outputId": "c1a0d66d-5031-484e-cdf2-a530589dafe6"
      },
      "execution_count": null,
      "outputs": [
        {
          "output_type": "stream",
          "name": "stdout",
          "text": [
            "Enter the Sentence : kanika gera\n",
            "Kanika Gera\n"
          ]
        }
      ]
    },
    {
      "cell_type": "code",
      "source": [
        "#Write a program that counts the frequency of each character in a given string.\n",
        "\n",
        "def count_character_frequency(string):\n",
        "  frequency = {}  #dictionary to keep the frequency of exc character\n",
        "  for c in string:\n",
        "    if c in frequency:\n",
        "      frequency[c]+=1\n",
        "    else:\n",
        "      frequency[c]=1\n",
        "  return frequency\n",
        "\n",
        "\n",
        "word = input(\"Enter a word: \")\n",
        "character_frequency = count_character_frequency(word)\n",
        "print(\"Character frequency:\", character_frequency)"
      ],
      "metadata": {
        "colab": {
          "base_uri": "https://localhost:8080/"
        },
        "id": "o3Kn8X13IESQ",
        "outputId": "2d8108d2-48fd-4d62-f051-d425c2063d6e"
      },
      "execution_count": null,
      "outputs": [
        {
          "output_type": "stream",
          "name": "stdout",
          "text": [
            "Enter a word: kanika gera\n",
            "Character frequency: {'k': 2, 'a': 3, 'n': 1, 'i': 1, ' ': 1, 'g': 1, 'e': 1, 'r': 1}\n"
          ]
        }
      ]
    },
    {
      "cell_type": "code",
      "source": [
        "#Write a program that removes duplicate characters from a given string.\n",
        "\n",
        "def remove_duplicates(wrd):\n",
        "  unique_chars =[]\n",
        "  for c in wrd:\n",
        "    if c not in unique_chars:\n",
        "      unique_chars.append(c)\n",
        "  return ''.join(unique_chars)\n",
        "\n",
        "word = input(\"Enter the String : \")\n",
        "print(remove_duplicates(word))"
      ],
      "metadata": {
        "colab": {
          "base_uri": "https://localhost:8080/"
        },
        "id": "8o-_g2ukJBxI",
        "outputId": "886f00fe-489d-4378-9e13-e884cc430c12"
      },
      "execution_count": null,
      "outputs": [
        {
          "output_type": "stream",
          "name": "stdout",
          "text": [
            "Enter the String : kanika\n",
            "kani\n"
          ]
        }
      ]
    },
    {
      "cell_type": "code",
      "source": [
        "#Title Case conversion : Write a program that converts a given string to title case (capitalizing the first letter of each word and making the rest lowercase).\n",
        "\n",
        "def title_case_conv(s):\n",
        "  return s.title()\n",
        "\n",
        "sentence = input(\"Enter the Sentence : \")\n",
        "print(title_case_conv(sentence))"
      ],
      "metadata": {
        "colab": {
          "base_uri": "https://localhost:8080/"
        },
        "id": "cwTLrBfHJl5Y",
        "outputId": "d6482b74-d5d0-41c5-8fe0-4cdce115e299"
      },
      "execution_count": null,
      "outputs": [
        {
          "output_type": "stream",
          "name": "stdout",
          "text": [
            "Enter the Sentence : kanika\n",
            "Kanika\n"
          ]
        }
      ]
    },
    {
      "cell_type": "code",
      "source": [
        "#String S of length N is given. Then N-1 operations are applied to it : move the first letter of S to the end. How many times is the first letter of\n",
        "# S the same as the last letter. Eg, \"abbaa\" , the sequence is : abbaa -> bbaaa -> baaab -> aaabb -> aabba . Output is : 3\n",
        "\n",
        "def Solution(S):\n",
        "  if(S[0] == S[-1]):\n",
        "    count = 1\n",
        "  else:\n",
        "    count =0\n",
        "  for i in range(1,len(S)):\n",
        "    S=S[1:]+S[0]\n",
        "    if(S[0] == S[-1]):\n",
        "      count += 1\n",
        "  return count\n",
        "\n",
        "str = input(\"Enter String : \")\n",
        "print(Solution(str))"
      ],
      "metadata": {
        "id": "g5qudO0pjisq",
        "outputId": "b7ea08ac-3156-4f48-e0df-a9b96aa79942",
        "colab": {
          "base_uri": "https://localhost:8080/"
        }
      },
      "execution_count": 3,
      "outputs": [
        {
          "output_type": "stream",
          "name": "stdout",
          "text": [
            "Enter String : abab\n",
            "0\n"
          ]
        }
      ]
    },
    {
      "cell_type": "code",
      "source": [
        "from IPython.core.error import IPythonCoreError\n",
        "#There are P[K] people and S[K] seats in the K-th car.Given 2 arrays P & S, consisting of N integers each returns the minimum number of\n",
        "#cars needed to take the friends/people on holiday.Eg, P=[1,4,1] , S=[1,5,1], function should return 2.\n",
        "\n",
        "def Solution(P,S):\n",
        "  total_people = sum(P)\n",
        "  count = 0\n",
        "  S.sort(reverse = True)\n",
        "  for i in S:\n",
        "    if total_people > 0 :\n",
        "      total_people = total_people - i\n",
        "      count = count+1\n",
        "  return count\n",
        "\n",
        "P = []\n",
        "S = []\n",
        "\n",
        "n = int(input(\"Enter the number of elements : \"))\n",
        "\n",
        "for i in range(n):\n",
        "  ele = int(input(\"Enter element : \"))\n",
        "  P.append(ele)\n",
        "\n",
        "n1 = int(input(\"Enter the number of elements : \"))\n",
        "\n",
        "for i in range(n1):\n",
        "  ele = int(input(\"Enter element : \"))\n",
        "  S.append(ele)\n",
        "\n",
        "print(Solution(P,S))"
      ],
      "metadata": {
        "id": "3PwjMPDhlPo5",
        "outputId": "e190d901-9e90-490a-e4a1-9916d4f07183",
        "colab": {
          "base_uri": "https://localhost:8080/"
        }
      },
      "execution_count": 8,
      "outputs": [
        {
          "output_type": "stream",
          "name": "stdout",
          "text": [
            "Enter the number of elements : 3\n",
            "Enter element : 1\n",
            "Enter element : 4\n",
            "Enter element : 1\n",
            "Enter the number of elements : 3\n",
            "Enter element : 1\n",
            "Enter element : 5\n",
            "Enter element : 1\n",
            "2\n"
          ]
        }
      ]
    }
  ]
}